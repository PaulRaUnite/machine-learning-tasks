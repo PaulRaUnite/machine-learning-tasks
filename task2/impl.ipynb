{
 "cells": [
  {
   "cell_type": "markdown",
   "source": [
    "# Завдання 2\n",
    "Непараметрична регресія\n",
    "\n",
    "Дані: https://archive.ics.uci.edu/ml/datasets/Combined+Cycle+Power+Plant"
   ],
   "metadata": {
    "collapsed": false,
    "pycharm": {
     "name": "#%% md\n"
    }
   }
  },
  {
   "cell_type": "code",
   "execution_count": 37,
   "metadata": {
    "collapsed": true,
    "pycharm": {
     "name": "#%%\n"
    }
   },
   "outputs": [
    {
     "data": {
      "text/plain": "      AT      V       AP     RH      PE\n0  14.96  41.76  1024.07  73.17  463.26\n1  25.18  62.96  1020.04  59.08  444.37\n2   5.11  39.40  1012.16  92.14  488.56\n3  20.86  57.32  1010.24  76.64  446.48\n4  10.82  37.50  1009.23  96.62  473.90",
      "text/html": "<div>\n<style scoped>\n    .dataframe tbody tr th:only-of-type {\n        vertical-align: middle;\n    }\n\n    .dataframe tbody tr th {\n        vertical-align: top;\n    }\n\n    .dataframe thead th {\n        text-align: right;\n    }\n</style>\n<table border=\"1\" class=\"dataframe\">\n  <thead>\n    <tr style=\"text-align: right;\">\n      <th></th>\n      <th>AT</th>\n      <th>V</th>\n      <th>AP</th>\n      <th>RH</th>\n      <th>PE</th>\n    </tr>\n  </thead>\n  <tbody>\n    <tr>\n      <th>0</th>\n      <td>14.96</td>\n      <td>41.76</td>\n      <td>1024.07</td>\n      <td>73.17</td>\n      <td>463.26</td>\n    </tr>\n    <tr>\n      <th>1</th>\n      <td>25.18</td>\n      <td>62.96</td>\n      <td>1020.04</td>\n      <td>59.08</td>\n      <td>444.37</td>\n    </tr>\n    <tr>\n      <th>2</th>\n      <td>5.11</td>\n      <td>39.40</td>\n      <td>1012.16</td>\n      <td>92.14</td>\n      <td>488.56</td>\n    </tr>\n    <tr>\n      <th>3</th>\n      <td>20.86</td>\n      <td>57.32</td>\n      <td>1010.24</td>\n      <td>76.64</td>\n      <td>446.48</td>\n    </tr>\n    <tr>\n      <th>4</th>\n      <td>10.82</td>\n      <td>37.50</td>\n      <td>1009.23</td>\n      <td>96.62</td>\n      <td>473.90</td>\n    </tr>\n  </tbody>\n</table>\n</div>"
     },
     "execution_count": 37,
     "metadata": {},
     "output_type": "execute_result"
    }
   ],
   "source": [
    "import numpy as np\n",
    "import pandas as pd\n",
    "\n",
    "from sklearn.model_selection import train_test_split\n",
    "df = pd.read_csv('Folds5x2_pp.csv')\n",
    "df.head()"
   ]
  },
  {
   "cell_type": "markdown",
   "source": [
    "Алгоритм:"
   ],
   "metadata": {
    "collapsed": false,
    "pycharm": {
     "name": "#%% md\n"
    }
   }
  },
  {
   "cell_type": "code",
   "execution_count": 38,
   "outputs": [],
   "source": [
    "import pyqt_fit.nonparam_regression as smooth\n",
    "from pyqt_fit import npr_methods\n",
    "from pyqt_fit.kernels import normal_kernel,tricube\n",
    "from sklearn.metrics import mean_squared_error\n",
    "\n",
    "# create design matrix X and target vector y\n",
    "X = np.array(df[['AT', 'V', 'AP', 'RH']]) # end index is exclusive\n",
    "y = np.array(df['PE'])    # another way of indexing a pandas df\n",
    "\n",
    "errors = []\n",
    "iter_num = 40\n",
    "for _ in range(40):\n",
    "    # split into train and test\n",
    "    X_train, \\\n",
    "    X_test, \\\n",
    "    y_train, \\\n",
    "    y_test = train_test_split(X, y, test_size=0.25)\n",
    "\n",
    "    k0 = smooth.NonParamRegression(X_train.transpose(), y_train, method=npr_methods.SpatialAverage())\n",
    "    k0.kernel = normal_kernel(4)\n",
    "    k0.fit()\n",
    "\n",
    "    errors.append(mean_squared_error(y_test, k0.evaluate(X_test.transpose())))"
   ],
   "metadata": {
    "collapsed": false,
    "pycharm": {
     "name": "#%%\n"
    }
   }
  },
  {
   "cell_type": "markdown",
   "source": [
    "Середній-середній квадрат помилки"
   ],
   "metadata": {
    "collapsed": false,
    "pycharm": {
     "name": "#%% md\n"
    }
   }
  },
  {
   "cell_type": "code",
   "execution_count": 39,
   "outputs": [
    {
     "name": "stdout",
     "output_type": "stream",
     "text": [
      "17.43689992063129 +- 0.8576284095753408 MW/h\n"
     ]
    }
   ],
   "source": [
    "errors = np.array(errors)\n",
    "print(\"{} +- {} MW/h\".format(errors.mean(), errors.std()))"
   ],
   "metadata": {
    "collapsed": false,
    "pycharm": {
     "name": "#%%\n"
    }
   }
  },
  {
   "cell_type": "markdown",
   "source": [
    "Середня помилка у динаміці (40 розбиттів даних)"
   ],
   "metadata": {
    "collapsed": false,
    "pycharm": {
     "name": "#%% md\n"
    }
   }
  },
  {
   "cell_type": "code",
   "execution_count": 40,
   "outputs": [
    {
     "data": {
      "text/plain": "<matplotlib.axes._subplots.AxesSubplot at 0x7efed0ef7550>"
     },
     "execution_count": 40,
     "metadata": {},
     "output_type": "execute_result"
    },
    {
     "data": {
      "image/png": "[encoded data removed]",
      "text/plain": "<Figure size 432x288 with 1 Axes>"
     },
     "metadata": {},
     "output_type": "display_data"
    }
   ],
   "source": [
    "import seaborn as sns\n",
    "sns.set_style(\"white\")\n",
    "\n",
    "sns.lineplot(list(range(1, iter_num+1)), errors)"
   ],
   "metadata": {
    "collapsed": false,
    "pycharm": {
     "name": "#%%\n"
    }
   }
  }
 ],
 "metadata": {
  "kernelspec": {
   "display_name": "Python 3",
   "language": "python",
   "name": "python3"
  },
  "language_info": {
   "codemirror_mode": {
    "name": "ipython",
    "version": 2
   },
   "file_extension": ".py",
   "mimetype": "text/x-python",
   "name": "python",
   "nbconvert_exporter": "python",
   "pygments_lexer": "ipython2",
   "version": "2.7.6"
  }
 },
 "nbformat": 4,
 "nbformat_minor": 0
}